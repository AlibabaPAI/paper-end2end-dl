{
 "cells": [
  {
   "cell_type": "markdown",
   "metadata": {},
   "source": [
    "# The Language Model"
   ]
  },
  {
   "cell_type": "markdown",
   "metadata": {},
   "source": [
    "## 1. Demonstration\n",
    "\n",
    "### Source Rewriter\n",
    "\n",
    "Given the following example code (taken from Nvidia’s streamcluster benchmark):"
   ]
  },
  {
   "cell_type": "code",
   "execution_count": 1,
   "metadata": {},
   "outputs": [
    {
     "name": "stdout",
     "output_type": "stream",
     "text": [
      "//#define Elements\n",
      "__kernel void memset_kernel(__global char * mem_d, short val, int number_bytes){\n",
      "    const int thread_id = get_global_id(0);\n",
      "    mem_d[thread_id] = val;\n",
      "}\n"
     ]
    }
   ],
   "source": [
    "code = \"\"\"//#define Elements\n",
    "__kernel void memset_kernel(__global char * mem_d, short val, int number_bytes){\n",
    "    const int thread_id = get_global_id(0);\n",
    "    mem_d[thread_id] = val;\n",
    "}\"\"\"\n",
    "\n",
    "print(code)"
   ]
  },
  {
   "cell_type": "markdown",
   "metadata": {},
   "source": [
    "We apply the rewriter. Variable and function names are normalized, comments removed, and code style enforced:"
   ]
  },
  {
   "cell_type": "code",
   "execution_count": 2,
   "metadata": {},
   "outputs": [
    {
     "name": "stdout",
     "output_type": "stream",
     "text": [
      "__kernel void A(__global char* a, short b, int c) {\n",
      "  const int d = get_global_id(0);\n",
      "  a[d] = b;\n",
      "}\n"
     ]
    }
   ],
   "source": [
    "from clgen.preprocess import preprocess\n",
    "\n",
    "rewritten = preprocess(code)\n",
    "print(rewritten)"
   ]
  },
  {
   "cell_type": "markdown",
   "metadata": {},
   "source": [
    "### Source Encoder\n",
    "\n",
    "Deriving a 1-of-$k$ vocabulary for a piece of code, using a hybrid character and token based approach:"
   ]
  },
  {
   "cell_type": "code",
   "execution_count": 3,
   "metadata": {},
   "outputs": [
    {
     "name": "stdout",
     "output_type": "stream",
     "text": [
      "GreedyAtomizer[27 tokens]\n"
     ]
    }
   ],
   "source": [
    "from clgen.atomizer import GreedyAtomizer\n",
    "\n",
    "atomizer = GreedyAtomizer.from_text(rewritten)\n",
    "print(atomizer)"
   ]
  },
  {
   "cell_type": "markdown",
   "metadata": {},
   "source": [
    "The derived vocabulary maps tokens to indices:"
   ]
  },
  {
   "cell_type": "code",
   "execution_count": 4,
   "metadata": {},
   "outputs": [
    {
     "data": {
      "text/html": [
       "<div>\n",
       "<table border=\"1\" class=\"dataframe\">\n",
       "  <thead>\n",
       "    <tr style=\"text-align: right;\">\n",
       "      <th></th>\n",
       "      <th>token</th>\n",
       "    </tr>\n",
       "  </thead>\n",
       "  <tbody>\n",
       "    <tr>\n",
       "      <th>0</th>\n",
       "      <td>'\\n'</td>\n",
       "    </tr>\n",
       "    <tr>\n",
       "      <th>1</th>\n",
       "      <td>'  '</td>\n",
       "    </tr>\n",
       "    <tr>\n",
       "      <th>2</th>\n",
       "      <td>' '</td>\n",
       "    </tr>\n",
       "    <tr>\n",
       "      <th>3</th>\n",
       "      <td>'('</td>\n",
       "    </tr>\n",
       "    <tr>\n",
       "      <th>4</th>\n",
       "      <td>')'</td>\n",
       "    </tr>\n",
       "    <tr>\n",
       "      <th>5</th>\n",
       "      <td>'*'</td>\n",
       "    </tr>\n",
       "    <tr>\n",
       "      <th>6</th>\n",
       "      <td>','</td>\n",
       "    </tr>\n",
       "    <tr>\n",
       "      <th>7</th>\n",
       "      <td>'0'</td>\n",
       "    </tr>\n",
       "    <tr>\n",
       "      <th>8</th>\n",
       "      <td>';'</td>\n",
       "    </tr>\n",
       "    <tr>\n",
       "      <th>9</th>\n",
       "      <td>'='</td>\n",
       "    </tr>\n",
       "    <tr>\n",
       "      <th>10</th>\n",
       "      <td>'A'</td>\n",
       "    </tr>\n",
       "    <tr>\n",
       "      <th>11</th>\n",
       "      <td>'['</td>\n",
       "    </tr>\n",
       "    <tr>\n",
       "      <th>12</th>\n",
       "      <td>']'</td>\n",
       "    </tr>\n",
       "    <tr>\n",
       "      <th>13</th>\n",
       "      <td>'__global'</td>\n",
       "    </tr>\n",
       "    <tr>\n",
       "      <th>14</th>\n",
       "      <td>'__kernel'</td>\n",
       "    </tr>\n",
       "    <tr>\n",
       "      <th>15</th>\n",
       "      <td>'a'</td>\n",
       "    </tr>\n",
       "    <tr>\n",
       "      <th>16</th>\n",
       "      <td>'b'</td>\n",
       "    </tr>\n",
       "    <tr>\n",
       "      <th>17</th>\n",
       "      <td>'c'</td>\n",
       "    </tr>\n",
       "    <tr>\n",
       "      <th>18</th>\n",
       "      <td>'char'</td>\n",
       "    </tr>\n",
       "    <tr>\n",
       "      <th>19</th>\n",
       "      <td>'const'</td>\n",
       "    </tr>\n",
       "    <tr>\n",
       "      <th>20</th>\n",
       "      <td>'d'</td>\n",
       "    </tr>\n",
       "    <tr>\n",
       "      <th>21</th>\n",
       "      <td>'get_global_id'</td>\n",
       "    </tr>\n",
       "    <tr>\n",
       "      <th>22</th>\n",
       "      <td>'int'</td>\n",
       "    </tr>\n",
       "    <tr>\n",
       "      <th>23</th>\n",
       "      <td>'short'</td>\n",
       "    </tr>\n",
       "    <tr>\n",
       "      <th>24</th>\n",
       "      <td>'void'</td>\n",
       "    </tr>\n",
       "    <tr>\n",
       "      <th>25</th>\n",
       "      <td>'{'</td>\n",
       "    </tr>\n",
       "    <tr>\n",
       "      <th>26</th>\n",
       "      <td>'}'</td>\n",
       "    </tr>\n",
       "  </tbody>\n",
       "</table>\n",
       "</div>"
      ],
      "text/plain": [
       "              token\n",
       "0              '\\n'\n",
       "1              '  '\n",
       "2               ' '\n",
       "3               '('\n",
       "4               ')'\n",
       "5               '*'\n",
       "6               ','\n",
       "7               '0'\n",
       "8               ';'\n",
       "9               '='\n",
       "10              'A'\n",
       "11              '['\n",
       "12              ']'\n",
       "13       '__global'\n",
       "14       '__kernel'\n",
       "15              'a'\n",
       "16              'b'\n",
       "17              'c'\n",
       "18           'char'\n",
       "19          'const'\n",
       "20              'd'\n",
       "21  'get_global_id'\n",
       "22            'int'\n",
       "23          'short'\n",
       "24           'void'\n",
       "25              '{'\n",
       "26              '}'"
      ]
     },
     "execution_count": 4,
     "metadata": {},
     "output_type": "execute_result"
    }
   ],
   "source": [
    "import pandas as pd\n",
    "\n",
    "pd.DataFrame(sorted([f\"'{k}'\" for k in atomizer.vocab]), columns=[\"token\"])"
   ]
  },
  {
   "cell_type": "markdown",
   "metadata": {},
   "source": [
    "Encoding the source using this vocabulary yields:"
   ]
  },
  {
   "cell_type": "code",
   "execution_count": 5,
   "metadata": {},
   "outputs": [
    {
     "name": "stdout",
     "output_type": "stream",
     "text": [
      "[14  1 24  1 10  3 13  1 18  5  1 15  6  1 23  1 16  6  1 22  1 17  4  1 25\n",
      "  0  2 19  1 22  1 20  1  9  1 21  3  7  4  8  0  2 15 11 20 12  1  9  1 16\n",
      "  8  0 26]\n"
     ]
    }
   ],
   "source": [
    "encoded = atomizer.atomize(rewritten)\n",
    "print(encoded)"
   ]
  },
  {
   "cell_type": "markdown",
   "metadata": {},
   "source": [
    "Reversing the process:"
   ]
  },
  {
   "cell_type": "code",
   "execution_count": 6,
   "metadata": {},
   "outputs": [
    {
     "name": "stdout",
     "output_type": "stream",
     "text": [
      "<__kernel>< ><void>< ><A><(><__global>< ><char><*>< ><a><,>< ><short>< ><b><,>< ><int>< ><c><)>< ><{><\\n><  ><const>< ><int>< ><d>< ><=>< ><get_global_id><(><0><)><;><\\n><  ><a><[><d><]>< ><=>< ><b><;><\\n><}>"
     ]
    }
   ],
   "source": [
    "for i in encoded:\n",
    "    t = atomizer.deatomize([i])\n",
    "    if t == '\\n': t = '\\\\n'\n",
    "    print(f\"<{t}>\", end=\"\")"
   ]
  },
  {
   "cell_type": "markdown",
   "metadata": {},
   "source": [
    "### Padding\n",
    "\n",
    "Sequences are padded to a fixed length using an out-of-vocabulary token:"
   ]
  },
  {
   "cell_type": "code",
   "execution_count": 7,
   "metadata": {},
   "outputs": [
    {
     "name": "stderr",
     "output_type": "stream",
     "text": [
      "Using TensorFlow backend.\n"
     ]
    },
    {
     "name": "stdout",
     "output_type": "stream",
     "text": [
      "[27 27 27 27 27 27 27 27 27 27 27 27 27 27 27 27 27 27 27 27 27 27 14  1 24\n",
      "  1 10  3 13  1 18  5  1 15  6  1 23  1 16  6  1 22  1 17  4  1 25  0  2 19\n",
      "  1 22  1 20  1  9  1 21  3  7  4  8  0  2 15 11 20 12  1  9  1 16  8  0 26]\n"
     ]
    }
   ],
   "source": [
    "from keras.preprocessing.sequence import pad_sequences\n",
    "\n",
    "pad_val = atomizer.vocab_size\n",
    "print(pad_sequences([encoded], maxlen=len(encoded) + 22, value=pad_val)[0])"
   ]
  },
  {
   "cell_type": "markdown",
   "metadata": {
    "collapsed": true
   },
   "source": [
    "## 2. Deriving Vocabulary from Handwritten GPGPU Benchmarks\n",
    "\n",
    "For the experiments in the paper, we derived a vocabulary from 45k lines of real world handwritten GPGPU benchmarks:"
   ]
  },
  {
   "cell_type": "code",
   "execution_count": 8,
   "metadata": {},
   "outputs": [
    {
     "name": "stdout",
     "output_type": "stream",
     "text": [
      "lines of code: 45497\n",
      "derived vocabulary: GreedyAtomizer[128 tokens]\n"
     ]
    }
   ],
   "source": [
    "import pandas as pd\n",
    "\n",
    "srcs = '\\n'.join(pd.read_csv(\"../data/case-study-a/cgo17-amd.csv\")['src'].values)\n",
    "print(\"lines of code:\", len(srcs.split('\\n')))\n",
    "\n",
    "derived_atomizer = GreedyAtomizer.from_text(srcs)\n",
    "print(\"derived vocabulary:\", derived_atomizer)"
   ]
  },
  {
   "cell_type": "code",
   "execution_count": 9,
   "metadata": {},
   "outputs": [
    {
     "data": {
      "text/html": [
       "<div>\n",
       "<table border=\"1\" class=\"dataframe\">\n",
       "  <thead>\n",
       "    <tr style=\"text-align: right;\">\n",
       "      <th></th>\n",
       "      <th>token</th>\n",
       "    </tr>\n",
       "  </thead>\n",
       "  <tbody>\n",
       "    <tr>\n",
       "      <th>0</th>\n",
       "      <td>'\\n'</td>\n",
       "    </tr>\n",
       "    <tr>\n",
       "      <th>1</th>\n",
       "      <td>'  '</td>\n",
       "    </tr>\n",
       "    <tr>\n",
       "      <th>2</th>\n",
       "      <td>' '</td>\n",
       "    </tr>\n",
       "    <tr>\n",
       "      <th>3</th>\n",
       "      <td>'!'</td>\n",
       "    </tr>\n",
       "    <tr>\n",
       "      <th>4</th>\n",
       "      <td>'%'</td>\n",
       "    </tr>\n",
       "    <tr>\n",
       "      <th>...</th>\n",
       "      <td>...</td>\n",
       "    </tr>\n",
       "    <tr>\n",
       "      <th>123</th>\n",
       "      <td>'y'</td>\n",
       "    </tr>\n",
       "    <tr>\n",
       "      <th>124</th>\n",
       "      <td>'z'</td>\n",
       "    </tr>\n",
       "    <tr>\n",
       "      <th>125</th>\n",
       "      <td>'{'</td>\n",
       "    </tr>\n",
       "    <tr>\n",
       "      <th>126</th>\n",
       "      <td>'|'</td>\n",
       "    </tr>\n",
       "    <tr>\n",
       "      <th>127</th>\n",
       "      <td>'}'</td>\n",
       "    </tr>\n",
       "  </tbody>\n",
       "</table>\n",
       "<p>128 rows × 1 columns</p>\n",
       "</div>"
      ],
      "text/plain": [
       "    token\n",
       "0    '\\n'\n",
       "1    '  '\n",
       "2     ' '\n",
       "3     '!'\n",
       "4     '%'\n",
       "..    ...\n",
       "123   'y'\n",
       "124   'z'\n",
       "125   '{'\n",
       "126   '|'\n",
       "127   '}'\n",
       "\n",
       "[128 rows x 1 columns]"
      ]
     },
     "execution_count": 9,
     "metadata": {},
     "output_type": "execute_result"
    }
   ],
   "source": [
    "pd.set_option('display.max_rows', 10)\n",
    "pd.DataFrame(sorted([f\"'{k}'\" for k in derived_atomizer.vocab]), columns=[\"token\"])"
   ]
  },
  {
   "cell_type": "markdown",
   "metadata": {},
   "source": [
    "Using this derived vocabulary, lets plot the first 80 tokens of 12 real world GPU benchmarks:"
   ]
  },
  {
   "cell_type": "code",
   "execution_count": 10,
   "metadata": {},
   "outputs": [
    {
     "data": {
      "image/png": "[encoded data removed]",
      "text/plain": [
       "<matplotlib.figure.Figure at 0x7f246463ba20>"
      ]
     },
     "metadata": {},
     "output_type": "display_data"
    }
   ],
   "source": [
    "%matplotlib inline\n",
    "\n",
    "import matplotlib.pyplot as plt\n",
    "import seaborn as sns\n",
    "import numpy as np\n",
    "\n",
    "from labm8 import viz\n",
    "\n",
    "natoms = 80\n",
    "nprog = 12\n",
    "\n",
    "data = [derived_atomizer.atomize(src)[:natoms] for src in\n",
    "        pd.read_csv(\"../data/case-study-a/cgo17-amd.csv\")['src'].values[:nprog]]\n",
    "kernels = [x.split(\"-\")[-1] for x in\n",
    "           pd.read_csv(\"../data/case-study-a/cgo17-amd.csv\")['benchmark'].values[:nprog]]\n",
    "data = np.reshape(data, (nprog, natoms))\n",
    "    \n",
    "ax = sns.heatmap(data, vmin=0, vmax=derived_atomizer.vocab_size, square=True,\n",
    "                 cbar=False, yticklabels=kernels, xticklabels=[str(x) for x in range(1, natoms + 1)])\n",
    "plt.title(\"Encoded GPU benchmark sources (first 80 tokens)\")\n",
    "viz.finalise(figsize=(15, 5))"
   ]
  },
  {
   "cell_type": "markdown",
   "metadata": {},
   "source": [
    "Notice that, as a result of the rewriting process, each of the kernels starts in an identical manner, i.e. `__kernel void A(...`\n",
    "\n",
    "# 3. Reproduce LaTeX Tables from the Paper\n",
    "\n",
    "Order the atoms by their appearance in the example code:"
   ]
  },
  {
   "cell_type": "code",
   "execution_count": 11,
   "metadata": {
    "collapsed": true
   },
   "outputs": [],
   "source": [
    "i = 1\n",
    "s = set()\n",
    "ordered = []\n",
    "for idx in derived_atomizer.atomize(rewritten):\n",
    "    if idx not in s:\n",
    "        t = derived_atomizer.decoder[idx]\n",
    "        ordered.append((idx, t, i))\n",
    "        i += 1\n",
    "        s.add(idx)"
   ]
  },
  {
   "cell_type": "markdown",
   "metadata": {},
   "source": [
    "Table 3c:"
   ]
  },
  {
   "cell_type": "code",
   "execution_count": 12,
   "metadata": {},
   "outputs": [
    {
     "name": "stdout",
     "output_type": "stream",
     "text": [
      "\n",
      "\\footnotesize\n",
      "\\begin{tabular}{l l | l l | l l}\n",
      "  \\toprule\n",
      "  \\textbf{idx} & \\textbf{token} & \\textbf{idx} & \\textbf{token} & \\textbf{idx} & \\textbf{token} \\\\\n",
      "  \\midrule\n",
      "  \\texttt{1} & \\texttt{`\\_\\_kernel'} & \\texttt{10} & \\texttt{`,'} & \\texttt{19} & \\texttt{`const'} \\\\\n",
      "  \\texttt{2} & \\texttt{` '} & \\texttt{11} & \\texttt{`short'} & \\texttt{20} & \\texttt{`d'} \\\\\n",
      "  \\texttt{3} & \\texttt{`void'} & \\texttt{12} & \\texttt{`b'} & \\texttt{21} & \\texttt{`='} \\\\\n",
      "  \\texttt{4} & \\texttt{`A'} & \\texttt{13} & \\texttt{`int'} & \\texttt{22} & \\texttt{`get\\_global\\_id'} \\\\\n",
      "  \\texttt{5} & \\texttt{`('} & \\texttt{14} & \\texttt{`c'} & \\texttt{23} & \\texttt{`0'} \\\\\n",
      "  \\texttt{6} & \\texttt{`\\_\\_global'} & \\texttt{15} & \\texttt{`)'} & \\texttt{24} & \\texttt{`;'} \\\\\n",
      "  \\texttt{7} & \\texttt{`char'} & \\texttt{16} & \\texttt{`\\{'} & \\texttt{25} & \\texttt{`['} \\\\\n",
      "  \\texttt{8} & \\texttt{`*'} & \\texttt{17} & \\texttt{`\\textbackslash n'} & \\texttt{26} & \\texttt{`]'} \\\\\n",
      "  \\texttt{9} & \\texttt{`a'} & \\texttt{18} & \\texttt{`  '} & \\texttt{27} & \\texttt{`\\}'} \\\\\n",
      "  \\bottomrule\n",
      "\\end{tabular}\n"
     ]
    }
   ],
   "source": [
    "print(\"\"\"\n",
    "\\\\footnotesize\n",
    "\\\\begin{tabular}{l l | l l | l l}\n",
    "  \\\\toprule\\\n",
    "\"\"\")\n",
    "print(\" \", \" & \".join([\"\\\\textbf{idx} & \\\\textbf{token}\"] * 3), \"\\\\\\\\\")\n",
    "print(\"  \\\\midrule\")\n",
    "\n",
    "def escape(x):\n",
    "    import re\n",
    "    if x == '\\n':\n",
    "        return '\\\\textbackslash n'\n",
    "    elif x == '{':\n",
    "        return '\\\\{'\n",
    "    elif x == '}':\n",
    "        return '\\\\}'\n",
    "    else:\n",
    "        return re.sub(r'_', '\\\\_', x)\n",
    "\n",
    "for i, (j, k, l) in enumerate(zip(ordered[:9], ordered[9:18], ordered[18:])):\n",
    "    i1, i2, i3 = i + 1, i + 10, i + 19\n",
    "    c1, c2, c3 = escape(j[1]), escape(k[1]), escape(l[1])\n",
    "    print(f\"\"\"  \\\n",
    "\\\\texttt{{{i1}}} & \\\\texttt{{`{c1}'}} & \\\n",
    "\\\\texttt{{{i2}}} & \\\\texttt{{`{c2}'}} & \\\n",
    "\\\\texttt{{{i3}}} & \\\\texttt{{`{c3}'}} \\\\\\\\\\\n",
    "\"\"\")\n",
    "    \n",
    "print(\"\"\"\\\n",
    "  \\\\bottomrule\n",
    "\\\\end{tabular}\"\"\")"
   ]
  },
  {
   "cell_type": "markdown",
   "metadata": {},
   "source": [
    "Table 3d:"
   ]
  },
  {
   "cell_type": "code",
   "execution_count": 13,
   "metadata": {},
   "outputs": [
    {
     "name": "stdout",
     "output_type": "stream",
     "text": [
      "\\rowcolors{2}{white}{gray!25}\n",
      "\\footnotesize\n",
      "\\begin{tabular}{l l l l l l l l l l l}\n",
      "  \\toprule\n",
      "  \\texttt{01} & \\texttt{02} & \\texttt{03} & \\texttt{02} & \\texttt{04} & \\texttt{05} & \\texttt{06} & \\texttt{02} & \\texttt{07} & \\texttt{08} & \\texttt{02} \\\\\n",
      "  \\texttt{09} & \\texttt{10} & \\texttt{02} & \\texttt{11} & \\texttt{02} & \\texttt{12} & \\texttt{10} & \\texttt{02} & \\texttt{13} & \\texttt{02} & \\texttt{14} \\\\\n",
      "  \\texttt{15} & \\texttt{02} & \\texttt{16} & \\texttt{17} & \\texttt{18} & \\texttt{19} & \\texttt{02} & \\texttt{13} & \\texttt{02} & \\texttt{20} & \\texttt{02} \\\\\n",
      "  \\texttt{21} & \\texttt{02} & \\texttt{22} & \\texttt{05} & \\texttt{23} & \\texttt{15} & \\texttt{24} & \\texttt{17} & \\texttt{18} & \\texttt{09} & \\texttt{25} \\\\\n",
      "  \\texttt{20} & \\texttt{26} & \\texttt{02} & \\texttt{21} & \\texttt{02} & \\texttt{12} & \\texttt{24} & \\texttt{17} & \\texttt{27} & \\multicolumn{2}{l}{\\texttt{<pad\\ldots}>} \\\\\n",
      "  \\bottomrule\n",
      "\\end{tabular}\n"
     ]
    }
   ],
   "source": [
    "translator = dict((i1, i2) for i1, _, i2 in ordered)\n",
    "\n",
    "print(\"\"\"\\\n",
    "\\\\rowcolors{2}{white}{gray!25}\n",
    "\\\\footnotesize\n",
    "\\\\begin{tabular}{l l l l l l l l l l l}\n",
    "  \\\\toprule\n",
    "  \"\"\", end=\"\")\n",
    "\n",
    "for i, idx in enumerate(derived_atomizer.atomize(rewritten)):\n",
    "    t = translator[idx]\n",
    "    print(f\"\\\\texttt{{{t:02d}}}\", end=\"\")\n",
    "    if (i + 1) % 11:\n",
    "        print(\" & \", end=\"\")\n",
    "    else:\n",
    "        print(\" \\\\\\\\\\n  \", end=\"\")\n",
    "\n",
    "print(\"\"\"\\\n",
    "\\\\multicolumn{2}{l}{\\\\texttt{<pad\\\\ldots}>} \\\\\\\\\"\"\")\n",
    "print(\"\"\"\\\n",
    "  \\\\bottomrule\n",
    "\\\\end{tabular}\"\"\")\n"
   ]
  },
  {
   "cell_type": "markdown",
   "metadata": {},
   "source": [
    "End of experiments."
   ]
  }
 ],
 "metadata": {
  "kernelspec": {
   "display_name": "e2e-dl",
   "language": "python",
   "name": "e2e-dl"
  },
  "language_info": {
   "codemirror_mode": {
    "name": "ipython",
    "version": 3
   },
   "file_extension": ".py",
   "mimetype": "text/x-python",
   "name": "python",
   "nbconvert_exporter": "python",
   "pygments_lexer": "ipython3",
   "version": "3.6.1"
  }
 },
 "nbformat": 4,
 "nbformat_minor": 2
}
